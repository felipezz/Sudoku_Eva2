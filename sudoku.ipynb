{
 "cells": [
  {
   "cell_type": "markdown",
   "metadata": {},
   "source": [
    "# Tarea Sudoku\n"
   ]
  },
  {
   "cell_type": "markdown",
   "metadata": {},
   "source": [
    "Instalar e importar liberías a utilizar."
   ]
  },
  {
   "cell_type": "code",
   "execution_count": 1,
   "metadata": {},
   "outputs": [
    {
     "name": "stdout",
     "output_type": "stream",
     "text": [
      "Requirement already satisfied: numpy in c:\\users\\felip\\appdata\\local\\programs\\python\\python311\\lib\\site-packages (2.1.2)\n",
      "Note: you may need to restart the kernel to use updated packages.\n"
     ]
    }
   ],
   "source": [
    "%pip install numpy\n",
    "\n",
    "import numpy as np\n",
    "import time"
   ]
  },
  {
   "cell_type": "markdown",
   "metadata": {},
   "source": [
    "La siguiente clase se encarga de resolver el sudoku utilizando una heurística. Esta heurística consiste en seleccionar primero las celdas que tienen el menor número de opciones para colocar números."
   ]
  },
  {
   "cell_type": "code",
   "execution_count": 3,
   "metadata": {},
   "outputs": [],
   "source": [
    "class SudokuSolver:\n",
    "    def __init__(self, tablero):\n",
    "        \"\"\"\n",
    "        Inicializa el tablero del Sudoku.\n",
    "        \"\"\"\n",
    "        assert tablero.shape == (9, 9), \"El tablero debe ser de 9x9.\"\n",
    "        self.tablero = tablero\n",
    "        self.pasos = 0  # Variable para contar los intentos de colocación\n",
    "\n",
    "    def es_valido(self, fila, col, num):\n",
    "        \"\"\"\n",
    "        Verifica si un número puede colocarse en la posición (fila, col)\n",
    "        cumpliendo las reglas del Sudoku.\n",
    "        \"\"\"\n",
    "        # Verificar fila\n",
    "        for i in range(9):\n",
    "            if self.tablero[fila, i] == num:\n",
    "                return False\n",
    "        \n",
    "        # Verificar columna\n",
    "        for i in range(9):\n",
    "            if self.tablero[i, col] == num:\n",
    "                return False\n",
    "        \n",
    "        # Verificar subcuadrícula 3x3\n",
    "        sub_fila, sub_col = 3 * (fila // 3), 3 * (col // 3)\n",
    "        for i in range(3):\n",
    "            for j in range(3):\n",
    "                if self.tablero[sub_fila + i, sub_col + j] == num:\n",
    "                    return False\n",
    "\n",
    "        return True\n",
    "\n",
    "    def encontrar_celda_vacia(self):\n",
    "        \"\"\"\n",
    "        Encuentra la celda vacía con el menor número de opciones posibles.\n",
    "        Retorna las coordenadas (fila, col) o None si no hay celdas vacías.\n",
    "        \"\"\"\n",
    "        mejor_opcion = None\n",
    "        min_opciones = 10  # Mayor que cualquier número de opciones posibles\n",
    "\n",
    "        for fila in range(9):\n",
    "            for col in range(9):\n",
    "                if self.tablero[fila, col] == 0:\n",
    "                    # Contar cuántos números son válidos en esta celda\n",
    "                    opciones = sum(self.es_valido(fila, col, num) for num in range(1, 10))\n",
    "\n",
    "                    if opciones < min_opciones:\n",
    "                        min_opciones = opciones\n",
    "                        mejor_opcion = (fila, col)\n",
    "\n",
    "                    if min_opciones == 1:\n",
    "                        return mejor_opcion  # Encontramos una celda con solo una opción, la mejor\n",
    "\n",
    "        return mejor_opcion\n",
    "\n",
    "    def resolver(self):\n",
    "        \"\"\"\n",
    "        Resuelve el Sudoku utilizando backtracking.\n",
    "        \"\"\"\n",
    "        # Encuentra una celda vacía\n",
    "        celda = self.encontrar_celda_vacia()\n",
    "        if celda is None:\n",
    "            # No quedan celdas vacías, el Sudoku está resuelto\n",
    "            return True\n",
    "\n",
    "        fila, col = celda\n",
    "        for num in range(1, 10):\n",
    "            if self.es_valido(fila, col, num):\n",
    "                # Coloca el número y avanza\n",
    "                self.tablero[fila, col] = num\n",
    "                self.pasos += 1\n",
    "\n",
    "                if self.resolver():\n",
    "                    return True\n",
    "\n",
    "                # Si no funciona, deshacer el movimiento (backtracking)\n",
    "                self.tablero[fila, col] = 0\n",
    "\n",
    "        return False\n",
    "\n",
    "    def imprimir_tablero(self):\n",
    "        \"\"\"\n",
    "        Imprime el tablero del Sudoku de manera legible.\n",
    "        \"\"\"\n",
    "        for fila in range(9):\n",
    "            print(\" \".join(str(self.tablero[fila, col]) if self.tablero[fila, col] != 0 else \".\"\n",
    "                           for col in range(9)))"
   ]
  },
  {
   "cell_type": "code",
   "execution_count": 5,
   "metadata": {},
   "outputs": [],
   "source": [
    "def imprimir_resultado(tablero):\n",
    "    print(\"Tablero inicial:\")\n",
    "    solver = SudokuSolver(tablero)\n",
    "    solver.imprimir_tablero()\n",
    "\n",
    "    # Iniciar el cronómetro\n",
    "    tiempo_inicial = time.time()\n",
    "\n",
    "    if solver.resolver():\n",
    "            # Detener el cronómetro\n",
    "        tiempo_final = time.time()\n",
    "\n",
    "        print(\"\\nSudoku resuelto:\")\n",
    "        solver.imprimir_tablero()\n",
    "\n",
    "            # Imprimir el tiempo y los pasos\n",
    "        print(f\"\\nResuelto en {solver.pasos} pasos\")\n",
    "        print(f\"Tiempo transcurrido: {tiempo_final - tiempo_inicial:.4f} segundos\")\n",
    "    else:\n",
    "        print(\"\\nNo se pudo resolver el Sudoku.\")"
   ]
  },
  {
   "cell_type": "markdown",
   "metadata": {},
   "source": [
    "A continuación se intentara resolver un tablero de sudoku."
   ]
  },
  {
   "cell_type": "code",
   "execution_count": 6,
   "metadata": {},
   "outputs": [
    {
     "name": "stdout",
     "output_type": "stream",
     "text": [
      "Tablero inicial:\n",
      "5 3 . . 7 . . . .\n",
      "6 . . 1 9 5 . . .\n",
      ". 9 8 . . . . 6 .\n",
      "8 . . . 6 . . . 3\n",
      "4 . . 8 . 3 . . 1\n",
      "7 . . . 2 . . . 6\n",
      ". 6 . . . . 2 8 .\n",
      ". . . 4 1 9 . . 5\n",
      ". . . . 8 . . 7 9\n",
      "\n",
      "Sudoku resuelto:\n",
      "5 3 4 6 7 8 9 1 2\n",
      "6 7 2 1 9 5 3 4 8\n",
      "1 9 8 3 4 2 5 6 7\n",
      "8 5 9 7 6 1 4 2 3\n",
      "4 2 6 8 5 3 7 9 1\n",
      "7 1 3 9 2 4 8 5 6\n",
      "9 6 1 5 3 7 2 8 4\n",
      "2 8 7 4 1 9 6 3 5\n",
      "3 4 5 2 8 6 1 7 9\n",
      "\n",
      "Resuelto en 51 pasos\n",
      "Tiempo transcurrido: 0.0130 segundos\n"
     ]
    }
   ],
   "source": [
    "tablero1 = np.array([\n",
    "    [5, 3, 0, 0, 7, 0, 0, 0, 0],\n",
    "    [6, 0, 0, 1, 9, 5, 0, 0, 0],\n",
    "    [0, 9, 8, 0, 0, 0, 0, 6, 0],\n",
    "    [8, 0, 0, 0, 6, 0, 0, 0, 3],\n",
    "    [4, 0, 0, 8, 0, 3, 0, 0, 1],\n",
    "    [7, 0, 0, 0, 2, 0, 0, 0, 6],\n",
    "    [0, 6, 0, 0, 0, 0, 2, 8, 0],\n",
    "    [0, 0, 0, 4, 1, 9, 0, 0, 5],\n",
    "    [0, 0, 0, 0, 8, 0, 0, 7, 9]\n",
    "])\n",
    "\n",
    "imprimir_resultado(tablero1)"
   ]
  },
  {
   "cell_type": "markdown",
   "metadata": {},
   "source": [
    "Otra prueba utlizando otro tablero ..."
   ]
  },
  {
   "cell_type": "code",
   "execution_count": 7,
   "metadata": {},
   "outputs": [
    {
     "name": "stdout",
     "output_type": "stream",
     "text": [
      "Tablero inicial:\n",
      "8 . . . . . . . .\n",
      ". . 3 6 . . . . .\n",
      ". 7 . . 9 . 2 . .\n",
      ". 5 . . . 7 . . .\n",
      ". . . . 4 5 7 . .\n",
      ". . . 1 . . . 3 .\n",
      ". . 1 . . . . 6 8\n",
      ". . 8 5 . . . 1 .\n",
      ". 9 . . . . 4 . .\n",
      "\n",
      "Sudoku resuelto:\n",
      "8 1 2 7 5 3 6 4 9\n",
      "9 4 3 6 8 2 1 7 5\n",
      "6 7 5 4 9 1 2 8 3\n",
      "1 5 4 2 3 7 8 9 6\n",
      "3 6 9 8 4 5 7 2 1\n",
      "2 8 7 1 6 9 5 3 4\n",
      "5 2 1 9 7 4 3 6 8\n",
      "4 3 8 5 2 6 9 1 7\n",
      "7 9 6 3 1 8 4 5 2\n",
      "\n",
      "Resuelto en 13810 pasos\n",
      "Tiempo transcurrido: 3.4297 segundos\n"
     ]
    }
   ],
   "source": [
    "tablero2 = np.array([\n",
    "    [8, 0, 0, 0, 0, 0, 0, 0, 0],\n",
    "    [0, 0, 3, 6, 0, 0, 0, 0, 0],\n",
    "    [0, 7, 0, 0, 9, 0, 2, 0, 0],\n",
    "    [0, 5, 0, 0, 0, 7, 0, 0, 0],\n",
    "    [0, 0, 0, 0, 4, 5, 7, 0, 0],\n",
    "    [0, 0, 0, 1, 0, 0, 0, 3, 0],\n",
    "    [0, 0, 1, 0, 0, 0, 0, 6, 8],\n",
    "    [0, 0, 8, 5, 0, 0, 0, 1, 0],\n",
    "    [0, 9, 0, 0, 0, 0, 4, 0, 0]\n",
    "])\n",
    "\n",
    "imprimir_resultado(tablero2)"
   ]
  },
  {
   "cell_type": "markdown",
   "metadata": {},
   "source": [
    "Por último, un tablero sin solución."
   ]
  },
  {
   "cell_type": "code",
   "execution_count": 12,
   "metadata": {},
   "outputs": [
    {
     "name": "stdout",
     "output_type": "stream",
     "text": [
      "Tablero inicial:\n",
      "5 1 6 . 7 . . 9 .\n",
      "9 . . . . . . . 4\n",
      ". . 8 . . . . 6 .\n",
      "8 . . . 6 . . . 3\n",
      "4 . . 8 . 3 . . 1\n",
      "7 . . . 2 . . . 6\n",
      ". 6 . . . . 2 8 .\n",
      ". . . 4 1 9 . . 5\n",
      ". . . . 8 . 6 7 9\n",
      "\n",
      "No se pudo resolver el Sudoku.\n"
     ]
    }
   ],
   "source": [
    "tablero_sin_solucion = np.array([\n",
    "    [5, 1, 6, 0, 7, 0, 0, 9, 0],\n",
    "    [9, 0, 0, 0, 0, 0, 0, 0, 4],\n",
    "    [0, 0, 8, 0, 0, 0, 0, 6, 0],\n",
    "    [8, 0, 0, 0, 6, 0, 0, 0, 3],\n",
    "    [4, 0, 0, 8, 0, 3, 0, 0, 1],\n",
    "    [7, 0, 0, 0, 2, 0, 0, 0, 6],\n",
    "    [0, 6, 0, 0, 0, 0, 2, 8, 0],\n",
    "    [0, 0, 0, 4, 1, 9, 0, 0, 5],\n",
    "    [0, 0, 0, 0, 8, 0, 6, 7, 9] \n",
    "])\n",
    "\n",
    "imprimir_resultado(tablero_sin_solucion)"
   ]
  }
 ],
 "metadata": {
  "kernelspec": {
   "display_name": "Python 3",
   "language": "python",
   "name": "python3"
  },
  "language_info": {
   "codemirror_mode": {
    "name": "ipython",
    "version": 3
   },
   "file_extension": ".py",
   "mimetype": "text/x-python",
   "name": "python",
   "nbconvert_exporter": "python",
   "pygments_lexer": "ipython3",
   "version": "3.11.5"
  }
 },
 "nbformat": 4,
 "nbformat_minor": 2
}
